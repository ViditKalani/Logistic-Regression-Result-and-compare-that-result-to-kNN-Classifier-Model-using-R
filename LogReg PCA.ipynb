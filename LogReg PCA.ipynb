{
 "cells": [
  {
   "cell_type": "code",
   "execution_count": null,
   "metadata": {
    "collapsed": true
   },
   "outputs": [],
   "source": [
    "#Shoun Abraham\n",
    "#Used code from https://towardsdatascience.com/building-a-logistic-regression-in-python-step-by-step-becd4d56c9c8"
   ]
  },
  {
   "cell_type": "code",
   "execution_count": 2,
   "metadata": {
    "collapsed": true
   },
   "outputs": [],
   "source": [
    "import pandas as pd\n",
    "import numpy as np\n",
    "from sklearn import preprocessing\n",
    "import matplotlib.pyplot as plt \n",
    "plt.rc(\"font\", size=14)\n",
    "from sklearn.linear_model import LogisticRegression\n",
    "from sklearn.cross_validation import train_test_split\n",
    "import seaborn as sns\n",
    "sns.set(style=\"white\")\n",
    "sns.set(style=\"whitegrid\", color_codes=True)"
   ]
  },
  {
   "cell_type": "code",
   "execution_count": 6,
   "metadata": {},
   "outputs": [
    {
     "data": {
      "text/html": [
       "<div>\n",
       "<style>\n",
       "    .dataframe thead tr:only-child th {\n",
       "        text-align: right;\n",
       "    }\n",
       "\n",
       "    .dataframe thead th {\n",
       "        text-align: left;\n",
       "    }\n",
       "\n",
       "    .dataframe tbody tr th {\n",
       "        vertical-align: top;\n",
       "    }\n",
       "</style>\n",
       "<table border=\"1\" class=\"dataframe\">\n",
       "  <thead>\n",
       "    <tr style=\"text-align: right;\">\n",
       "      <th></th>\n",
       "      <th>0</th>\n",
       "      <th>1</th>\n",
       "      <th>2</th>\n",
       "      <th>3</th>\n",
       "      <th>4</th>\n",
       "      <th>5</th>\n",
       "      <th>6</th>\n",
       "      <th>7</th>\n",
       "      <th>8</th>\n",
       "      <th>9</th>\n",
       "      <th>Class</th>\n",
       "    </tr>\n",
       "  </thead>\n",
       "  <tbody>\n",
       "    <tr>\n",
       "      <th>1</th>\n",
       "      <td>-2102.286221</td>\n",
       "      <td>32.931356</td>\n",
       "      <td>3.361919</td>\n",
       "      <td>-0.657775</td>\n",
       "      <td>-0.876986</td>\n",
       "      <td>0.560159</td>\n",
       "      <td>-0.189341</td>\n",
       "      <td>-0.166657</td>\n",
       "      <td>-0.265185</td>\n",
       "      <td>0.381197</td>\n",
       "      <td>1</td>\n",
       "    </tr>\n",
       "    <tr>\n",
       "      <th>2</th>\n",
       "      <td>2679.802949</td>\n",
       "      <td>-17.319784</td>\n",
       "      <td>-17.054354</td>\n",
       "      <td>1.179895</td>\n",
       "      <td>1.268521</td>\n",
       "      <td>-0.662220</td>\n",
       "      <td>0.024507</td>\n",
       "      <td>-0.396524</td>\n",
       "      <td>0.466224</td>\n",
       "      <td>1.076485</td>\n",
       "      <td>0</td>\n",
       "    </tr>\n",
       "    <tr>\n",
       "      <th>3</th>\n",
       "      <td>-1175.275741</td>\n",
       "      <td>14.440874</td>\n",
       "      <td>3.268932</td>\n",
       "      <td>0.562049</td>\n",
       "      <td>0.884034</td>\n",
       "      <td>0.656517</td>\n",
       "      <td>0.170322</td>\n",
       "      <td>0.688417</td>\n",
       "      <td>0.671184</td>\n",
       "      <td>0.577163</td>\n",
       "      <td>1</td>\n",
       "    </tr>\n",
       "    <tr>\n",
       "      <th>4</th>\n",
       "      <td>4610.783164</td>\n",
       "      <td>7.124193</td>\n",
       "      <td>-10.215333</td>\n",
       "      <td>-0.580810</td>\n",
       "      <td>1.235284</td>\n",
       "      <td>-0.819677</td>\n",
       "      <td>0.287341</td>\n",
       "      <td>0.731074</td>\n",
       "      <td>-1.062652</td>\n",
       "      <td>0.667411</td>\n",
       "      <td>1</td>\n",
       "    </tr>\n",
       "    <tr>\n",
       "      <th>5</th>\n",
       "      <td>1598.746935</td>\n",
       "      <td>17.200115</td>\n",
       "      <td>-1.985796</td>\n",
       "      <td>-0.818432</td>\n",
       "      <td>0.166598</td>\n",
       "      <td>-0.259442</td>\n",
       "      <td>1.215347</td>\n",
       "      <td>0.524174</td>\n",
       "      <td>-0.888239</td>\n",
       "      <td>0.443293</td>\n",
       "      <td>0</td>\n",
       "    </tr>\n",
       "  </tbody>\n",
       "</table>\n",
       "</div>"
      ],
      "text/plain": [
       "             0          1          2         3         4         5         6  \\\n",
       "1 -2102.286221  32.931356   3.361919 -0.657775 -0.876986  0.560159 -0.189341   \n",
       "2  2679.802949 -17.319784 -17.054354  1.179895  1.268521 -0.662220  0.024507   \n",
       "3 -1175.275741  14.440874   3.268932  0.562049  0.884034  0.656517  0.170322   \n",
       "4  4610.783164   7.124193 -10.215333 -0.580810  1.235284 -0.819677  0.287341   \n",
       "5  1598.746935  17.200115  -1.985796 -0.818432  0.166598 -0.259442  1.215347   \n",
       "\n",
       "          7         8         9  Class  \n",
       "1 -0.166657 -0.265185  0.381197      1  \n",
       "2 -0.396524  0.466224  1.076485      0  \n",
       "3  0.688417  0.671184  0.577163      1  \n",
       "4  0.731074 -1.062652  0.667411      1  \n",
       "5  0.524174 -0.888239  0.443293      0  "
      ]
     },
     "execution_count": 6,
     "metadata": {},
     "output_type": "execute_result"
    }
   ],
   "source": [
    "df = pd.read_csv('pca_results.csv', index_col = 0)\n",
    "df.head()"
   ]
  },
  {
   "cell_type": "code",
   "execution_count": 8,
   "metadata": {
    "collapsed": true
   },
   "outputs": [],
   "source": [
    "from sklearn.datasets import fetch_mldata\n",
    "from sklearn.decomposition import PCA\n",
    "from sklearn.preprocessing import StandardScaler\n",
    "from sklearn import metrics\n",
    "from sklearn.model_selection import train_test_split\n",
    "import pandas as pd"
   ]
  },
  {
   "cell_type": "code",
   "execution_count": 10,
   "metadata": {
    "collapsed": true
   },
   "outputs": [],
   "source": [
    "cols = [\"0\", \"1\", \"2\", \"3\", \"4\", \n",
    "        \"5\", \"6\", \"7\", \"8\", \"9\"]\n",
    "X = df[cols]\n",
    "y = df['Class']\n"
   ]
  },
  {
   "cell_type": "code",
   "execution_count": 12,
   "metadata": {},
   "outputs": [
    {
     "name": "stdout",
     "output_type": "stream",
     "text": [
      "Optimization terminated successfully.\n",
      "         Current function value: 0.511862\n",
      "         Iterations 6\n",
      "                           Logit Regression Results                           \n",
      "==============================================================================\n",
      "Dep. Variable:                  Class   No. Observations:                 1000\n",
      "Model:                          Logit   Df Residuals:                      990\n",
      "Method:                           MLE   Df Model:                            9\n",
      "Date:                Tue, 01 May 2018   Pseudo R-squ.:                  0.1621\n",
      "Time:                        15:12:26   Log-Likelihood:                -511.86\n",
      "converged:                       True   LL-Null:                       -610.86\n",
      "                                        LLR p-value:                 8.680e-38\n",
      "==============================================================================\n",
      "                 coef    std err          z      P>|z|      [0.025      0.975]\n",
      "------------------------------------------------------------------------------\n",
      "0             -0.0001   2.91e-05     -5.057      0.000      -0.000   -9.03e-05\n",
      "1              0.0262      0.007      3.773      0.000       0.013       0.040\n",
      "2              0.0372      0.009      4.304      0.000       0.020       0.054\n",
      "3              0.1300      0.070      1.851      0.064      -0.008       0.268\n",
      "4              0.1675      0.075      2.230      0.026       0.020       0.315\n",
      "5              1.1260      0.109     10.325      0.000       0.912       1.340\n",
      "6             -1.4616      0.124    -11.753      0.000      -1.705      -1.218\n",
      "7              0.1350      0.123      1.099      0.272      -0.106       0.376\n",
      "8              0.4795      0.130      3.684      0.000       0.224       0.735\n",
      "9              0.3883      0.130      2.978      0.003       0.133       0.644\n",
      "==============================================================================\n"
     ]
    }
   ],
   "source": [
    "import statsmodels.api as sm\n",
    "logit_model=sm.Logit(y,X)\n",
    "result=logit_model.fit()\n",
    "print(result.summary())"
   ]
  },
  {
   "cell_type": "code",
   "execution_count": 14,
   "metadata": {},
   "outputs": [
    {
     "data": {
      "text/plain": [
       "LogisticRegression(C=1.0, class_weight=None, dual=False, fit_intercept=True,\n",
       "          intercept_scaling=1, max_iter=100, multi_class='ovr', n_jobs=1,\n",
       "          penalty='l2', random_state=None, solver='liblinear', tol=0.0001,\n",
       "          verbose=0, warm_start=False)"
      ]
     },
     "execution_count": 14,
     "metadata": {},
     "output_type": "execute_result"
    }
   ],
   "source": [
    "X_train, X_test, y_train, y_test = train_test_split(X, y, test_size=0.3, random_state=0)\n",
    "from sklearn.linear_model import LogisticRegression\n",
    "from sklearn import metrics\n",
    "logreg = LogisticRegression()\n",
    "logreg.fit(X_train, y_train)"
   ]
  },
  {
   "cell_type": "code",
   "execution_count": 16,
   "metadata": {},
   "outputs": [
    {
     "name": "stdout",
     "output_type": "stream",
     "text": [
      "Accuracy of logistic regression classifier on test set: 0.81\n"
     ]
    }
   ],
   "source": [
    "#Accuracy of train/test split 70/30\n",
    "y_pred = logreg.predict(X_test)\n",
    "print('Accuracy of logistic regression classifier on test set: {:.2f}'.format(logreg.score(X_test, y_test)))"
   ]
  },
  {
   "cell_type": "code",
   "execution_count": 18,
   "metadata": {},
   "outputs": [
    {
     "name": "stdout",
     "output_type": "stream",
     "text": [
      "10-fold cross validation average accuracy: 0.806\n"
     ]
    }
   ],
   "source": [
    "#K Folds Cross Validation\n",
    "from sklearn import model_selection\n",
    "from sklearn.model_selection import cross_val_score\n",
    "kfold = model_selection.KFold(n_splits=10, random_state=7)\n",
    "modelCV = LogisticRegression()\n",
    "scoring = 'accuracy'\n",
    "results = model_selection.cross_val_score(modelCV, X_train, y_train, cv=kfold, scoring=scoring)\n",
    "print(\"10-fold cross validation average accuracy: %.3f\" % (results.mean()))"
   ]
  },
  {
   "cell_type": "code",
   "execution_count": 20,
   "metadata": {},
   "outputs": [
    {
     "name": "stdout",
     "output_type": "stream",
     "text": [
      "[[ 57  29]\n",
      " [ 27 187]]\n"
     ]
    }
   ],
   "source": [
    "from sklearn.metrics import confusion_matrix\n",
    "confusion_matrix = confusion_matrix(y_test, y_pred)\n",
    "print(confusion_matrix)"
   ]
  },
  {
   "cell_type": "code",
   "execution_count": 22,
   "metadata": {},
   "outputs": [
    {
     "name": "stdout",
     "output_type": "stream",
     "text": [
      "             precision    recall  f1-score   support\n",
      "\n",
      "          0       0.68      0.66      0.67        86\n",
      "          1       0.87      0.87      0.87       214\n",
      "\n",
      "avg / total       0.81      0.81      0.81       300\n",
      "\n"
     ]
    }
   ],
   "source": [
    "from sklearn.metrics import classification_report\n",
    "print(classification_report(y_test, y_pred))"
   ]
  },
  {
   "cell_type": "code",
   "execution_count": 23,
   "metadata": {},
   "outputs": [
    {
     "data": {
      "image/png": "[encoded data removed]",
      "text/plain": [
       "<matplotlib.figure.Figure at 0x1247fe676a0>"
      ]
     },
     "metadata": {},
     "output_type": "display_data"
    }
   ],
   "source": [
    "from sklearn.metrics import roc_auc_score\n",
    "from sklearn.metrics import roc_curve\n",
    "logit_roc_auc = roc_auc_score(y_test, logreg.predict(X_test))\n",
    "fpr, tpr, thresholds = roc_curve(y_test, logreg.predict_proba(X_test)[:,1])\n",
    "plt.figure()\n",
    "plt.plot(fpr, tpr, label='Logistic Regression (area = %0.2f)' % logit_roc_auc)\n",
    "plt.plot([0, 1], [0, 1],'r--')\n",
    "plt.xlim([0.0, 1.0])\n",
    "plt.ylim([0.0, 1.05])\n",
    "plt.xlabel('False Positive Rate')\n",
    "plt.ylabel('True Positive Rate')\n",
    "plt.title('Receiver operating characteristic')\n",
    "plt.legend(loc=\"lower right\")\n",
    "plt.savefig('Log_ROC')\n",
    "plt.show()"
   ]
  }
 ],
 "metadata": {
  "kernelspec": {
   "display_name": "Python 3",
   "language": "python",
   "name": "python3"
  },
  "language_info": {
   "codemirror_mode": {
    "name": "ipython",
    "version": 3
   },
   "file_extension": ".py",
   "mimetype": "text/x-python",
   "name": "python",
   "nbconvert_exporter": "python",
   "pygments_lexer": "ipython3",
   "version": "3.6.3"
  }
 },
 "nbformat": 4,
 "nbformat_minor": 2
}
